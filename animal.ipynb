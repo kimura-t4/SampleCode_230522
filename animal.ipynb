{
 "cells": [
  {
   "cell_type": "code",
   "execution_count": 1,
   "metadata": {},
   "outputs": [],
   "source": [
    "class Animal:\n",
    "    def __init__(self, name, age):\n",
    "        self.name = name\n",
    "        self.age = age\n",
    "\n",
    "    def bark(self):\n",
    "        \"\"\"\n",
    "        動物ごとに違うので、\n",
    "        ここでは未実装\n",
    "        \"\"\"\n",
    "\n",
    "    def grow_old(self):\n",
    "        self.age += 1\n",
    "        \"\"\"\n",
    "        どの動物でも同じなので、\n",
    "        ここで実装\n",
    "        \"\"\""
   ]
  },
  {
   "cell_type": "code",
   "execution_count": 2,
   "metadata": {},
   "outputs": [],
   "source": [
    "class Dog(Animal):\n",
    "    def bark(self):\n",
    "        print(\"ワン!\")\n",
    "\n",
    "class Cat(Animal):\n",
    "    def bark(self):\n",
    "        print(\"ニャー!\")"
   ]
  },
  {
   "cell_type": "code",
   "execution_count": 3,
   "metadata": {},
   "outputs": [],
   "source": [
    "# インスタンス pochi, tama を生成する\n",
    "pochi = Dog(name=\"ポチ\", age=3)\n",
    "tama = Cat(name=\"タマ\", age=2)"
   ]
  },
  {
   "cell_type": "code",
   "execution_count": 4,
   "metadata": {},
   "outputs": [
    {
     "name": "stdout",
     "output_type": "stream",
     "text": [
      "ワン!\n",
      "ニャー!\n"
     ]
    }
   ],
   "source": [
    "# pochi と tama に鳴いてもらう\n",
    "pochi.bark()\n",
    "tama.bark()"
   ]
  },
  {
   "cell_type": "code",
   "execution_count": 5,
   "metadata": {},
   "outputs": [
    {
     "name": "stdout",
     "output_type": "stream",
     "text": [
      "grow_old 実行前 : 2\n",
      "grow_old 実行後 : 3\n"
     ]
    }
   ],
   "source": [
    "# tama に歳をとってもらう\n",
    "\"\"\"\n",
    "クラス Cat は、クラス Animal を継承しているので、\n",
    "クラス Animal のメソッドを使うことができる。\n",
    "\"\"\"\n",
    "\n",
    "print(f\"grow_old 実行前 : {tama.age}\")\n",
    "tama.grow_old()\n",
    "print(f\"grow_old 実行後 : {tama.age}\")"
   ]
  }
 ],
 "metadata": {
  "kernelspec": {
   "display_name": "base",
   "language": "python",
   "name": "python3"
  },
  "language_info": {
   "codemirror_mode": {
    "name": "ipython",
    "version": 3
   },
   "file_extension": ".py",
   "mimetype": "text/x-python",
   "name": "python",
   "nbconvert_exporter": "python",
   "pygments_lexer": "ipython3",
   "version": "3.8.3"
  },
  "orig_nbformat": 4
 },
 "nbformat": 4,
 "nbformat_minor": 2
}
