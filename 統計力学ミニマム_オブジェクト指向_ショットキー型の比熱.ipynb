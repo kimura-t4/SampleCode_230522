{
 "cells": [
  {
   "cell_type": "code",
   "execution_count": 2,
   "metadata": {},
   "outputs": [],
   "source": [
    "import numpy as np\n",
    "\n",
    "class DiscreteSystem:\n",
    "    # コンストラクタ\n",
    "    def __init__(self, list_E, T, kb):\n",
    "        \"\"\"\n",
    "        list_E: 状態のエネルギーのリスト\n",
    "        T: 温度\n",
    "        kb: ボルツマン定数\n",
    "        \"\"\"\n",
    "        \n",
    "        # インスタンス変数\n",
    "        self.T = T\n",
    "        self.kb = kb\n",
    "        self.ndarray_E = np.array(list_E) # ndarrayというベクトルのようなものに変換\n",
    "    \n",
    "    # メソッド\n",
    "    def Z(self): # 分配関数\n",
    "        return np.sum(np.exp(-self.ndarray_E / (self.kb * self.T)))\n",
    "    \n",
    "    def c(self): # 比熱\n",
    "        return 1 / (self.kb * self.T**2) * np.sum(self.ndarray_E * np.exp(-self.ndarray_E / (self.kb * self.T)))\n"
   ]
  },
  {
   "cell_type": "code",
   "execution_count": 4,
   "metadata": {},
   "outputs": [
    {
     "name": "stdout",
     "output_type": "stream",
     "text": [
      "1.3678794411714423\n",
      "0.36787944117144233\n"
     ]
    }
   ],
   "source": [
    "T = 1\n",
    "kb = 1\n",
    "E1 = 0\n",
    "E2 = 1\n",
    "\n",
    "discrete_system = DiscreteSystem([E1, E2], T, kb)\n",
    "\"\"\"\n",
    "DiscreteSystem([E1, E2], T, kb) はコンストラクタを呼び出している\n",
    "discrete_system はインスタンスが代入されている\n",
    "\"\"\"\n",
    "\n",
    "print(discrete_system.Z())\n",
    "print(discrete_system.c())"
   ]
  },
  {
   "cell_type": "code",
   "execution_count": 5,
   "metadata": {},
   "outputs": [],
   "source": [
    "list_T = np.linspace(0.01, 5, 100) # 0.01から5までの等間隔な100個の数\n",
    "kb = 1\n",
    "E1 = 0\n",
    "E2 = 1\n",
    "\n",
    "list_c = [] # 空のリストを作成\n",
    "for T in list_T:\n",
    "    discrete_system = DiscreteSystem([E1, E2], T, kb)\n",
    "    list_c.append(discrete_system.c()) # リストに計算結果を追加"
   ]
  },
  {
   "cell_type": "code",
   "execution_count": 14,
   "metadata": {},
   "outputs": [
    {
     "data": {
      "image/png": "[encoded data removed]",
      "text/plain": [
       "<Figure size 432x288 with 1 Axes>"
      ]
     },
     "metadata": {
      "needs_background": "light"
     },
     "output_type": "display_data"
    }
   ],
   "source": [
    "from matplotlib import pyplot as plt\n",
    "\n",
    "plt.plot(list_T * kb / (E2 - E1), list_c)\n",
    "plt.xlabel(\"$k_\\mathrm{B}T/\\Delta E$\", fontsize=16)\n",
    "plt.ylabel(\"$c(T)$\", fontsize=16)\n",
    "plt.show()"
   ]
  },
  {
   "cell_type": "code",
   "execution_count": null,
   "metadata": {},
   "outputs": [],
   "source": []
  },
  {
   "cell_type": "code",
   "execution_count": null,
   "metadata": {},
   "outputs": [],
   "source": []
  }
 ],
 "metadata": {
  "kernelspec": {
   "display_name": "base",
   "language": "python",
   "name": "python3"
  },
  "language_info": {
   "codemirror_mode": {
    "name": "ipython",
    "version": 3
   },
   "file_extension": ".py",
   "mimetype": "text/x-python",
   "name": "python",
   "nbconvert_exporter": "python",
   "pygments_lexer": "ipython3",
   "version": "3.8.3"
  },
  "orig_nbformat": 4
 },
 "nbformat": 4,
 "nbformat_minor": 2
}
