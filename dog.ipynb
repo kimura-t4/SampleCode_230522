{
 "cells": [
  {
   "cell_type": "code",
   "execution_count": 1,
   "metadata": {},
   "outputs": [],
   "source": [
    "# クラス Dog を定義する\n",
    "class Dog:\n",
    "    def __init__(self, name, age):\n",
    "        self.name = name\n",
    "        self.age = age\n",
    "\n",
    "    def bark(self):\n",
    "        print(\"ワン!\")\n",
    "\n",
    "    def grow_old(self):\n",
    "        self.age += 1"
   ]
  },
  {
   "cell_type": "code",
   "execution_count": 2,
   "metadata": {},
   "outputs": [],
   "source": [
    "# インスタンス pochi, mugi を生成する\n",
    "pochi = Dog(name=\"ポチ\", age=3)\n",
    "mugi = Dog(name=\"ムギ\", age=1)"
   ]
  },
  {
   "cell_type": "code",
   "execution_count": 3,
   "metadata": {},
   "outputs": [
    {
     "name": "stdout",
     "output_type": "stream",
     "text": [
      "ワン!\n"
     ]
    }
   ],
   "source": [
    "# pochi に鳴いてもらう\n",
    "pochi.bark()"
   ]
  },
  {
   "cell_type": "code",
   "execution_count": 4,
   "metadata": {},
   "outputs": [
    {
     "name": "stdout",
     "output_type": "stream",
     "text": [
      "grow_old 実行前 : 1\n",
      "grow_old 実行後 : 2\n"
     ]
    }
   ],
   "source": [
    "# mugi に歳をとってもらう\n",
    "print(f\"grow_old 実行前 : {mugi.age}\")\n",
    "mugi.grow_old()\n",
    "print(f\"grow_old 実行後 : {mugi.age}\")"
   ]
  },
  {
   "cell_type": "code",
   "execution_count": null,
   "metadata": {},
   "outputs": [],
   "source": []
  }
 ],
 "metadata": {
  "kernelspec": {
   "display_name": "base",
   "language": "python",
   "name": "python3"
  },
  "language_info": {
   "codemirror_mode": {
    "name": "ipython",
    "version": 3
   },
   "file_extension": ".py",
   "mimetype": "text/x-python",
   "name": "python",
   "nbconvert_exporter": "python",
   "pygments_lexer": "ipython3",
   "version": "3.8.3"
  },
  "orig_nbformat": 4
 },
 "nbformat": 4,
 "nbformat_minor": 2
}
